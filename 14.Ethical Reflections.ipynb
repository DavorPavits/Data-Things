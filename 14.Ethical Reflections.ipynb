{
 "cells": [
  {
   "cell_type": "markdown",
   "metadata": {},
   "source": [
    "## Exercise 1\n",
    "\n",
    "For this exercise, we will use the `adult` dataset (available on moodle or from the [UCI Machine Learning repository](https://archive.ics.uci.edu/dataset/2/adult)). Do the following:\n",
    "\n",
    "1. Load in the dataset and correct the error in the income column (replace the \".\" with the empty string such that there are only two categories).\n",
    "2. Create an X dataset using the variables \"age\", \"workclass\", \"education\", \"occupation\", \"race\", \"sex\", \"hours-per-week\". For the categorical variables with missing values, replace the missing values with a new category \"Unknown\". Also replace any values that are \"?\" with the value \"Unknown (using `str.replace`, for instance)\n",
    "3. Turn the five categorical variables in X into dummy variables and remove the original five variables (This will probably give you around 44 columns in X)\n",
    "4. Create the response variable y, such that it is 1 if the `income` variable in the adult dataset is `>50K` and 0 if the value is `<=50K`.\n",
    "5. Do a train-test split with 30% of the data for test (using `random_state=123`) and train a `XGBoost` classification model on the training data.\n",
    "6. Evaluate your models using various evaluation metrics and look at the confusion matrix of your model.\n",
    "7. To be able to calculate the various fairness metrics in regard to the variable `sex`, we need to construct two separate confusion matrices for the test dataset, one for `female` and one for `male`. First, create separate test sets for `female` and `male` as well as the predicted values for each gender. That is, create `X_test_female`, `X_test_male`, `y_test_female`, `y_test_male`, `y_pred_female`, and `y_pred_male`. (Hint: You can create `X_test_female` by `X_test_female = X_test[X_test[\"sex_Male\"] == 0]` and `y_test_male` by `y_test_male = y_test[X_test[\"sex_Male\"] == 1]`, for instance.)\n",
    "8. Calculate the accuracy for female and male for the XGBoost model and comment on the results.\n",
    "9. We can now create the True Positive (TP), True Negative (TN), False Positive (FP), and False Negative (FN) for each gender. That is, calculate the eight values `TP_f`, `TN_f`, `FP_f`, `FN_f`, `TP_m`, `TN_m`, `FP_m`, and `FN_m`. (Hint: You can calculate the False Positive for female (FP_f) by `FP_f = sum((y_test_female == 0) & (y_pred_female == 1))`.)\n",
    "10. Is there error rate balance across different genders, i.e. are the false positive rate (FPR) and false negative rate (FNR) the same across the two genders?\n",
    "11. Is there predictive parity across different genders?\n",
    "12. Is there Statistical parity across different genders?\n",
    "13. [Discussion question] Can your any of your models be used to make fair salary predictions?\n",
    "14. [Discussion question] In what sense is the `adult` dataset biased (unfair)?\n",
    "15. [Discussion question] If the dataset is biased, where could the bias potentially come from?\n",
    "16. [Optional] If you balance the number of males and females in the dataset (like we balanced the response variable in the Churn example), will you model become more fair?"
   ]
  },
  {
   "cell_type": "code",
   "execution_count": 1,
   "metadata": {},
   "outputs": [],
   "source": [
    "#Import Libraries\n",
    "import pandas as pd\n",
    "import numpy as np\n",
    "import seaborn as sns\n",
    "import matplotlib.pyplot as plt\n",
    "from sklearn.model_selection import train_test_split\n",
    "from sklearn.metrics import accuracy_score, confusion_matrix, classification_report\n",
    "import xgboost as xgb\n",
    "import scipy.sparse"
   ]
  },
  {
   "cell_type": "markdown",
   "metadata": {},
   "source": [
    "1. Load in the dataset and correct the error in the income column (replace the \".\" with the empty string such that there are only two categories)."
   ]
  },
  {
   "cell_type": "code",
   "execution_count": 2,
   "metadata": {},
   "outputs": [],
   "source": [
    "#Load Data\n",
    "df = pd.read_csv(\"Datasets/adult.csv\")"
   ]
  },
  {
   "cell_type": "code",
   "execution_count": 3,
   "metadata": {},
   "outputs": [],
   "source": [
    "#Clean the income column\n",
    "df[\"income\"] = df[\"income\"].apply(lambda x: x.strip(\".\"))"
   ]
  },
  {
   "cell_type": "markdown",
   "metadata": {},
   "source": [
    "2. Create an X dataset using the variables \"age\", \"workclass\", \"education\", \"occupation\", \"race\", \"sex\", \"hours-per-week\". For the categorical variables with missing values, replace the missing values with a new category \"Unknown\". Also replace any values that are \"?\" with the value \"Unknown (using `str.replace`, for instance)\n"
   ]
  },
  {
   "cell_type": "code",
   "execution_count": 4,
   "metadata": {},
   "outputs": [],
   "source": [
    "#Feature & target variables selection\n",
    "X = df[[\"age\", \"workclass\", \"education\",\"occupation\", \"race\", \"sex\",\"hours-per-week\"]]"
   ]
  },
  {
   "cell_type": "code",
   "execution_count": 5,
   "metadata": {},
   "outputs": [
    {
     "name": "stdout",
     "output_type": "stream",
     "text": [
      "There are no missing values\n",
      "There are no more ? in the categorical data\n"
     ]
    },
    {
     "name": "stderr",
     "output_type": "stream",
     "text": [
      "C:\\Users\\davor\\AppData\\Local\\Temp\\ipykernel_8980\\1391407957.py:2: SettingWithCopyWarning: \n",
      "A value is trying to be set on a copy of a slice from a DataFrame\n",
      "\n",
      "See the caveats in the documentation: https://pandas.pydata.org/pandas-docs/stable/user_guide/indexing.html#returning-a-view-versus-a-copy\n",
      "  X.replace(\"?\", \"Unkown\", inplace=True)\n"
     ]
    }
   ],
   "source": [
    "#Handle missing values \n",
    "X.replace(\"?\", \"Unkown\", inplace=True)\n",
    "X = X.fillna(\"Unkown\")\n",
    "\n",
    "#Verify that missing values are eliminated\n",
    "if X.isnull().sum().values.all() == 0 : print(\"There are no missing values\")\n",
    "\n",
    "#Verify there is not ? \n",
    "if X[X.values == \"?\"].empty: print(\"There are no more ? in the categorical data\")\n"
   ]
  },
  {
   "cell_type": "markdown",
   "metadata": {},
   "source": [
    "3. Turn the five categorical variables in X into dummy variables and remove the original five variables (This will probably give you around 44 columns in X)"
   ]
  },
  {
   "cell_type": "code",
   "execution_count": 6,
   "metadata": {},
   "outputs": [],
   "source": [
    "#One hot encoding\n",
    "X = pd.get_dummies(X, columns=[\"workclass\", \"education\", \"occupation\", \"race\", \"sex\"], drop_first=True, dtype=int)"
   ]
  },
  {
   "cell_type": "markdown",
   "metadata": {},
   "source": [
    "4. Create the response variable y, such that it is 1 if the `income` variable in the adult dataset is `>50K` and 0 if the value is `<=50K`."
   ]
  },
  {
   "cell_type": "code",
   "execution_count": 7,
   "metadata": {},
   "outputs": [],
   "source": [
    "y = (df[\"income\"] == \">50K\").astype(int) # Binary classification target"
   ]
  },
  {
   "cell_type": "markdown",
   "metadata": {},
   "source": [
    "5. Do a train-test split with 30% of the data for test (using `random_state=123`) and train a `XGBoost` classification model on the training data."
   ]
  },
  {
   "cell_type": "code",
   "execution_count": 8,
   "metadata": {},
   "outputs": [],
   "source": [
    "#Train-test split\n",
    "X_train, X_test, y_train, y_test = train_test_split(X, y, test_size=0.3, random_state=123)"
   ]
  },
  {
   "cell_type": "code",
   "execution_count": 9,
   "metadata": {},
   "outputs": [],
   "source": [
    "#Convert to Dmatrix for optimization\n",
    "dtrain = xgb.DMatrix(X_train, label=y_train)\n",
    "dtest = xgb.DMatrix(X_test, label=y_test)"
   ]
  },
  {
   "cell_type": "code",
   "execution_count": 10,
   "metadata": {},
   "outputs": [],
   "source": [
    "#Define XGBoost parameters\n",
    "params = {\n",
    "    \"objective\":\"binary:logistic\",\n",
    "    'eval_metric':'logloss', #Try with error,\n",
    "    \"random_state\": 123,\n",
    "    \"max_depth\":5\n",
    "}\n",
    "\n",
    "#Train the model\n",
    "model = xgb.train(params, dtrain, num_boost_round=100)\n",
    "\n",
    "#Make prediction\n",
    "y_pred = (model.predict(dtest) > 0.5).astype(int)"
   ]
  },
  {
   "cell_type": "markdown",
   "metadata": {},
   "source": [
    "6. Evaluate your models using various evaluation metrics and look at the confusion matrix of your model."
   ]
  },
  {
   "cell_type": "code",
   "execution_count": 11,
   "metadata": {},
   "outputs": [
    {
     "name": "stdout",
     "output_type": "stream",
     "text": [
      "Accuracy 0.8229031597625059\n",
      "Classification Report:\n",
      "               precision    recall  f1-score   support\n",
      "\n",
      "           0       0.85      0.93      0.89     11166\n",
      "           1       0.68      0.47      0.56      3487\n",
      "\n",
      "    accuracy                           0.82     14653\n",
      "   macro avg       0.77      0.70      0.72     14653\n",
      "weighted avg       0.81      0.82      0.81     14653\n",
      "\n"
     ]
    },
    {
     "data": {
      "image/png": "[encoded data removed]",
      "text/plain": [
       "<Figure size 600x500 with 2 Axes>"
      ]
     },
     "metadata": {},
     "output_type": "display_data"
    }
   ],
   "source": [
    "#Model Evaluation\n",
    "print(\"Accuracy\",accuracy_score(y_test, y_pred))\n",
    "print(\"Classification Report:\\n\", classification_report(y_test, y_pred))\n",
    "\n",
    "#Plot confusion Matrix\n",
    "cm = confusion_matrix(y_test, y_pred)\n",
    "plt.figure(figsize=(6,5))\n",
    "sns.heatmap(cm, annot=True, fmt=\"d\", cmap=\"Blues\", xticklabels=[\"<=50K\", \">50K\"], yticklabels=[\"<=50K\", \">50K\"])\n",
    "plt.xlabel(\"Predicted\")\n",
    "plt.ylabel(\"Actual\")\n",
    "plt.title(\"Actual vs Predicted\")\n",
    "plt.show()"
   ]
  },
  {
   "cell_type": "markdown",
   "metadata": {},
   "source": [
    "7. To be able to calculate the various fairness metrics in regard to the variable `sex`, we need to construct two separate confusion matrices for the test dataset, one for `female` and one for `male`. First, create separate test sets for `female` and `male` as well as the predicted values for each gender. That is, create `X_test_female`, `X_test_male`, `y_test_female`, `y_test_male`, `y_pred_female`, and `y_pred_male`. (Hint: You can create `X_test_female` by `X_test_female = X_test[X_test[\"sex_Male\"] == 0]` and `y_test_male` by `y_test_male = y_test[X_test[\"sex_Male\"] == 1]`, for instance.)"
   ]
  },
  {
   "cell_type": "code",
   "execution_count": 12,
   "metadata": {},
   "outputs": [],
   "source": [
    "#Fairness analysis: Separate test sets by gender\n",
    "X_test_female = X_test[X_test['sex_Male'] == 0]\n",
    "X_test_male = X_test[X_test['sex_Male'] == 1]\n",
    "y_test_female = y_test[X_test['sex_Male'] == 0]\n",
    "y_test_male = y_test[X_test['sex_Male'] == 1]\n",
    "\n",
    "dtest_female = xgb.DMatrix(X_test_female)\n",
    "dtest_male = xgb.DMatrix(X_test_male)\n",
    "\n",
    "y_pred_female = (model.predict(dtest_female) > 0.5).astype(int)\n",
    "y_pred_male = (model.predict(dtest_male) > 0.5).astype(int)"
   ]
  },
  {
   "cell_type": "markdown",
   "metadata": {},
   "source": [
    "8. Calculate the accuracy for female and male for the XGBoost model and comment on the results."
   ]
  },
  {
   "cell_type": "code",
   "execution_count": 13,
   "metadata": {},
   "outputs": [
    {
     "name": "stdout",
     "output_type": "stream",
     "text": [
      "Accuracry Female: 0.900\n",
      "accuracy Male:0.784\n"
     ]
    }
   ],
   "source": [
    "#Fairness Metrics\n",
    "accuracy_female = accuracy_score(y_test_female, y_pred_female)\n",
    "accuracy_male = accuracy_score(y_test_male, y_pred_male)\n",
    "print(f\"Accuracry Female: {accuracy_female:.3f}\\naccuracy Male:{accuracy_male:.3f}\")"
   ]
  },
  {
   "cell_type": "code",
   "execution_count": 14,
   "metadata": {},
   "outputs": [
    {
     "data": {
      "image/png": "[encoded data removed]",
      "text/plain": [
       "<Figure size 600x500 with 2 Axes>"
      ]
     },
     "metadata": {},
     "output_type": "display_data"
    },
    {
     "data": {
      "image/png": "[encoded data removed]",
      "text/plain": [
       "<Figure size 600x500 with 2 Axes>"
      ]
     },
     "metadata": {},
     "output_type": "display_data"
    }
   ],
   "source": [
    "#Plot gender-based confusion matrices\n",
    "def plot_confusion_matrix(y_true, y_pred, title):\n",
    "    cm = confusion_matrix(y_true, y_pred)\n",
    "    plt.figure(figsize=(6,5))\n",
    "    sns.heatmap(cm, annot=True, fmt='d', cmap='Blues', xticklabels=['<=50K', '>50K'], yticklabels=['<=50K', '>50K'])\n",
    "    plt.xlabel('Predicted')\n",
    "    plt.ylabel('Actual')\n",
    "    plt.title(title)\n",
    "    plt.show()\n",
    "\n",
    "plot_confusion_matrix(y_test_female, y_pred_female, \"Confusion Matrix - Female\")\n",
    "plot_confusion_matrix(y_test_male, y_pred_male, \"Confusion Matrix - Male\")"
   ]
  },
  {
   "cell_type": "markdown",
   "metadata": {},
   "source": [
    "9. We can now create the True Positive (TP), True Negative (TN), False Positive (FP), and False Negative (FN) for each gender. That is, calculate the eight values `TP_f`, `TN_f`, `FP_f`, `FN_f`, `TP_m`, `TN_m`, `FP_m`, and `FN_m`. (Hint: You can calculate the False Positive for female (FP_f) by `FP_f = sum((y_test_female == 0) & (y_pred_female == 1))`.)"
   ]
  },
  {
   "cell_type": "code",
   "execution_count": 15,
   "metadata": {},
   "outputs": [
    {
     "name": "stdout",
     "output_type": "stream",
     "text": [
      "TP_f: 60, TN_f: 4311, FP_f: 59, FN_f: 424\n",
      "TP_m: 1592, TN_m: 6095, FP_m: 701, FN_m: 1411\n"
     ]
    }
   ],
   "source": [
    "# Confusion matrix values\n",
    "TP_f = sum((y_test_female == 1) & (y_pred_female == 1))\n",
    "TN_f = sum((y_test_female == 0) & (y_pred_female == 0))\n",
    "FP_f = sum((y_test_female == 0) & (y_pred_female == 1))\n",
    "FN_f = sum((y_test_female == 1) & (y_pred_female == 0))\n",
    "\n",
    "TP_m = sum((y_test_male == 1) & (y_pred_male == 1))\n",
    "TN_m = sum((y_test_male == 0) & (y_pred_male == 0))\n",
    "FP_m = sum((y_test_male == 0) & (y_pred_male == 1))\n",
    "FN_m = sum((y_test_male == 1) & (y_pred_male == 0))\n",
    "\n",
    "print(f\"TP_f: {TP_f}, TN_f: {TN_f}, FP_f: {FP_f}, FN_f: {FN_f}\")\n",
    "print(f\"TP_m: {TP_m}, TN_m: {TN_m}, FP_m: {FP_m}, FN_m: {FN_m}\")"
   ]
  },
  {
   "cell_type": "markdown",
   "metadata": {},
   "source": [
    "10. Is there error rate balance across different genders, i.e. are the false positive rate (FPR) and false negative rate (FNR) the same across the two genders?"
   ]
  },
  {
   "cell_type": "code",
   "execution_count": 16,
   "metadata": {},
   "outputs": [
    {
     "name": "stdout",
     "output_type": "stream",
     "text": [
      "FPR Female: 0.014, FNR Female: 0.876\n",
      "FPR Male: 0.103, FNR Male: 0.470\n"
     ]
    }
   ],
   "source": [
    "# False positive & false negative rates\n",
    "FPR_f = FP_f / (FP_f + TN_f)\n",
    "FNR_f = FN_f / (FN_f + TP_f)\n",
    "FPR_m = FP_m / (FP_m + TN_m)\n",
    "FNR_m = FN_m / (FN_m + TP_m)\n",
    "print(f\"FPR Female: {FPR_f:.3f}, FNR Female: {FNR_f:.3f}\")\n",
    "print(f\"FPR Male: {FPR_m:.3f}, FNR Male: {FNR_m:.3f}\")"
   ]
  },
  {
   "cell_type": "markdown",
   "metadata": {},
   "source": [
    "There is no error rate balance, as both FPR and FNR differ significantly between males and females.\n",
    "The model predicts high income for males much more often that for females and in addition the model fails to predict high income for females much more often thatn for males.\n",
    "Overall, the model underestimates high-imcome females and overestimates high-income males."
   ]
  },
  {
   "cell_type": "markdown",
   "metadata": {},
   "source": [
    "11. Is there predictive parity across different genders?"
   ]
  },
  {
   "cell_type": "code",
   "execution_count": 17,
   "metadata": {},
   "outputs": [
    {
     "name": "stdout",
     "output_type": "stream",
     "text": [
      "Predivtive parity Males(Precision):0.6942869603139992\n",
      "Predivtive parity Females(Precision):0.5042016806722689\n"
     ]
    }
   ],
   "source": [
    "#Calcualte PPV for males and females\n",
    "PPV_M = TP_m / (TP_m + FP_m)\n",
    "print(f\"Predivtive parity Males(Precision):{PPV_M}\") #Correctly identifying high income males\n",
    "PPV_F = TP_f / (TP_f + FP_f)\n",
    "print(f\"Predivtive parity Females(Precision):{PPV_F}\") #Correctly identifying high income males"
   ]
  },
  {
   "cell_type": "markdown",
   "metadata": {},
   "source": [
    "There is some differnece in predictive parity, since the model has slightly higher precision for predicting high income males compared to females. "
   ]
  },
  {
   "cell_type": "markdown",
   "metadata": {},
   "source": [
    "12. Is there Statistical parity across different genders?"
   ]
  },
  {
   "cell_type": "code",
   "execution_count": 18,
   "metadata": {},
   "outputs": [
    {
     "name": "stdout",
     "output_type": "stream",
     "text": [
      "Statistical parity for males:23.4%\n",
      "Statistical parity for females:2.5%\n"
     ]
    }
   ],
   "source": [
    "#Calcualte statistical parity\n",
    "stat_M = ((TP_m + FP_m) / len(X_test_male)) * 100\n",
    "print(f\"Statistical parity for males:{stat_M:.1f}%\")\n",
    "stat_F = ((TP_f + FP_f) / len(X_test_female)) * 100\n",
    "print(f\"Statistical parity for females:{stat_F:.1f}%\")"
   ]
  },
  {
   "cell_type": "markdown",
   "metadata": {},
   "source": [
    "There is not statistical parity as the model predicts more high incomes for males."
   ]
  },
  {
   "cell_type": "markdown",
   "metadata": {},
   "source": [
    "13. [Discussion question] Can your any of your models be used to make fair salary predictions?"
   ]
  },
  {
   "cell_type": "markdown",
   "metadata": {},
   "source": [
    "The model is not fair and highly biased towards males, so is cant be used to make fair salary predictions."
   ]
  },
  {
   "cell_type": "markdown",
   "metadata": {},
   "source": [
    "14. [Discussion question] In what sense is the `adult` dataset biased (unfair)?\n",
    "15. [Discussion question] If the dataset is biased, where could the bias "
   ]
  },
  {
   "cell_type": "markdown",
   "metadata": {},
   "source": [
    "The dataset probably contains historical bias due to gender discrimation or education or occupation.\n",
    "Furthermore, the dataset is quite unbalanced. In conclusion, the dataset it self is not neutral and balanced."
   ]
  },
  {
   "cell_type": "markdown",
   "metadata": {},
   "source": [
    "16. [Optional] If you balance the number of males and females in the dataset (like we balanced the response variable in the Churn example), will you model become more fair?"
   ]
  },
  {
   "cell_type": "markdown",
   "metadata": {},
   "source": [
    "Mitigation Techniques"
   ]
  },
  {
   "cell_type": "code",
   "execution_count": 19,
   "metadata": {},
   "outputs": [],
   "source": [
    "#Import Libraries\n",
    "from imblearn.over_sampling import SMOTE\n",
    "from fairlearn.reductions import ExponentiatedGradient, DemographicParity"
   ]
  },
  {
   "cell_type": "code",
   "execution_count": 20,
   "metadata": {},
   "outputs": [],
   "source": [
    "#Apply SMOTE to balance classes\n",
    "smote = SMOTE(random_state=123)\n",
    "X_train_balanced, y_train_balanced = smote.fit_resample(X_train, y_train)"
   ]
  },
  {
   "cell_type": "code",
   "execution_count": 21,
   "metadata": {},
   "outputs": [],
   "source": [
    "#Convert to DMatric with reqeighting\n",
    "gender_weights = np.where(y_train_balanced == 1, 1.1, 1) # Increase weight for underpresented class\n",
    "dtrain = xgb.DMatrix(X_train_balanced, label=y_train_balanced, weight=gender_weights)\n",
    "dtest = xgb.DMatrix(X_test, label=y_test)"
   ]
  },
  {
   "cell_type": "code",
   "execution_count": 22,
   "metadata": {},
   "outputs": [],
   "source": [
    "#Define XGBoost parameters\n",
    "params = {\n",
    "    \"objective\":\"binary:logistic\",\n",
    "    'eval_metric':'logloss', #Try with error,\n",
    "    \"random_state\": 123,\n",
    "    \"max_depth\":5\n",
    "}\n",
    "\n",
    "#Train the model\n",
    "model = xgb.train(params, dtrain, num_boost_round=100)"
   ]
  },
  {
   "cell_type": "code",
   "execution_count": 23,
   "metadata": {},
   "outputs": [],
   "source": [
    "#Make predictions with threshold tuning\n",
    "threshold = 0.52\n",
    "y_pred = (model.predict(dtest) > threshold).astype(int)"
   ]
  },
  {
   "cell_type": "code",
   "execution_count": 24,
   "metadata": {},
   "outputs": [],
   "source": [
    "#Fairness-aware post-processing using Fairlearn\n",
    "mitigator = ExponentiatedGradient(xgb.XGBClassifier(), constraints=DemographicParity())\n",
    "mitigator.fit(X_train_balanced, y_train_balanced, sensitive_features=X_train_balanced[\"sex_Male\"])\n",
    "y_pred_fair = mitigator.predict(X_test)"
   ]
  },
  {
   "cell_type": "code",
   "execution_count": 25,
   "metadata": {},
   "outputs": [
    {
     "name": "stdout",
     "output_type": "stream",
     "text": [
      "Accuracy (Threshold Adjusted): 0.7719920835323825\n",
      "Accuracy (Fairlearn Model): 0.7339111444755341\n",
      "Classification Report (Threshold Adjusted):\n",
      "               precision    recall  f1-score   support\n",
      "\n",
      "           0       0.89      0.80      0.84     11166\n",
      "           1       0.52      0.67      0.58      3487\n",
      "\n",
      "    accuracy                           0.77     14653\n",
      "   macro avg       0.70      0.74      0.71     14653\n",
      "weighted avg       0.80      0.77      0.78     14653\n",
      "\n",
      "Classification Report (Fairlearn Model):\n",
      "               precision    recall  f1-score   support\n",
      "\n",
      "           0       0.86      0.78      0.82     11166\n",
      "           1       0.46      0.60      0.52      3487\n",
      "\n",
      "    accuracy                           0.73     14653\n",
      "   macro avg       0.66      0.69      0.67     14653\n",
      "weighted avg       0.76      0.73      0.75     14653\n",
      "\n"
     ]
    }
   ],
   "source": [
    "#Model evaluation\n",
    "print(\"Accuracy (Threshold Adjusted):\", accuracy_score(y_test, y_pred))\n",
    "print(\"Accuracy (Fairlearn Model):\", accuracy_score(y_test, y_pred_fair))\n",
    "print(\"Classification Report (Threshold Adjusted):\\n\", classification_report(y_test, y_pred))\n",
    "print(\"Classification Report (Fairlearn Model):\\n\", classification_report(y_test, y_pred_fair))"
   ]
  },
  {
   "cell_type": "code",
   "execution_count": 26,
   "metadata": {},
   "outputs": [
    {
     "name": "stdout",
     "output_type": "stream",
     "text": [
      "Accuracy Female: 0.8428100535640709\n",
      "Accuracy Male: 0.736911929788754\n"
     ]
    }
   ],
   "source": [
    "# Fairness analysis: Separate test sets by gender\n",
    "X_test_female = X_test[X_test['sex_Male'] == 0]\n",
    "X_test_male = X_test[X_test['sex_Male'] == 1]\n",
    "y_test_female = y_test[X_test['sex_Male'] == 0]\n",
    "y_test_male = y_test[X_test['sex_Male'] == 1]\n",
    "\n",
    "dtest_female = xgb.DMatrix(X_test_female)\n",
    "dtest_male = xgb.DMatrix(X_test_male)\n",
    "\n",
    "y_pred_female = (model.predict(dtest_female) > threshold).astype(int)\n",
    "y_pred_male = (model.predict(dtest_male) > threshold).astype(int)\n",
    "\n",
    "# Fairness metrics\n",
    "accuracy_female = accuracy_score(y_test_female, y_pred_female)\n",
    "accuracy_male = accuracy_score(y_test_male, y_pred_male)\n",
    "print(f\"Accuracy Female: {accuracy_female}\\nAccuracy Male: {accuracy_male}\")"
   ]
  },
  {
   "cell_type": "code",
   "execution_count": 27,
   "metadata": {},
   "outputs": [
    {
     "name": "stdout",
     "output_type": "stream",
     "text": [
      "TP_f: 191, TN_f: 3900, FP_f: 470, FN_f: 293\n",
      "TP_m: 2162, TN_m: 5059, FP_m: 1737, FN_m: 841\n"
     ]
    }
   ],
   "source": [
    "# Confusion matrix values\n",
    "TP_f = sum((y_test_female == 1) & (y_pred_female == 1))\n",
    "TN_f = sum((y_test_female == 0) & (y_pred_female == 0))\n",
    "FP_f = sum((y_test_female == 0) & (y_pred_female == 1))\n",
    "FN_f = sum((y_test_female == 1) & (y_pred_female == 0))\n",
    "\n",
    "TP_m = sum((y_test_male == 1) & (y_pred_male == 1))\n",
    "TN_m = sum((y_test_male == 0) & (y_pred_male == 0))\n",
    "FP_m = sum((y_test_male == 0) & (y_pred_male == 1))\n",
    "FN_m = sum((y_test_male == 1) & (y_pred_male == 0))\n",
    "\n",
    "print(f\"TP_f: {TP_f}, TN_f: {TN_f}, FP_f: {FP_f}, FN_f: {FN_f}\")\n",
    "print(f\"TP_m: {TP_m}, TN_m: {TN_m}, FP_m: {FP_m}, FN_m: {FN_m}\")"
   ]
  },
  {
   "cell_type": "code",
   "execution_count": 28,
   "metadata": {},
   "outputs": [
    {
     "name": "stdout",
     "output_type": "stream",
     "text": [
      "FPR Female: 0.108, FNR Female: 0.605\n",
      "FPR Male: 0.256, FNR Male: 0.280\n"
     ]
    }
   ],
   "source": [
    "# False positive & false negative rates\n",
    "FPR_f = FP_f / (FP_f + TN_f)\n",
    "FNR_f = FN_f / (FN_f + TP_f)\n",
    "FPR_m = FP_m / (FP_m + TN_m)\n",
    "FNR_m = FN_m / (FN_m + TP_m)\n",
    "print(f\"FPR Female: {FPR_f:.3f}, FNR Female: {FNR_f:.3f}\")\n",
    "print(f\"FPR Male: {FPR_m:.3f}, FNR Male: {FNR_m:.3f}\")"
   ]
  },
  {
   "cell_type": "code",
   "execution_count": 29,
   "metadata": {},
   "outputs": [
    {
     "name": "stdout",
     "output_type": "stream",
     "text": [
      "Predivtive parity Males(Precision):0.5545011541420877\n",
      "Predivtive parity Females(Precision):0.28895612708018154\n"
     ]
    }
   ],
   "source": [
    "#Calcualte PPV for males and females\n",
    "PPV_M = TP_m / (TP_m + FP_m)\n",
    "print(f\"Predivtive parity Males(Precision):{PPV_M}\") #Correctly identifying high income males\n",
    "PPV_F = TP_f / (TP_f + FP_f)\n",
    "print(f\"Predivtive parity Females(Precision):{PPV_F}\") #Correctly identifying high income femmales"
   ]
  },
  {
   "cell_type": "code",
   "execution_count": 30,
   "metadata": {},
   "outputs": [
    {
     "name": "stdout",
     "output_type": "stream",
     "text": [
      "Statistical parity for males:39.8%\n",
      "Statistical parity for females:13.6%\n"
     ]
    }
   ],
   "source": [
    "#Calcualte statistical parity\n",
    "stat_M = ((TP_m + FP_m) / len(X_test_male)) * 100\n",
    "print(f\"Statistical parity for males:{stat_M:.1f}%\")\n",
    "stat_F = ((TP_f + FP_f) / len(X_test_female)) * 100\n",
    "print(f\"Statistical parity for females:{stat_F:.1f}%\")"
   ]
  },
  {
   "cell_type": "markdown",
   "metadata": {},
   "source": [
    "Overall, the model becomes less biased but still it remains bias towards males. Potentially it could change if we fine-tune the mitigation techniques but i believe the dataset is always going to be biased."
   ]
  }
 ],
 "metadata": {
  "kernelspec": {
   "display_name": "data_things",
   "language": "python",
   "name": "python3"
  },
  "language_info": {
   "codemirror_mode": {
    "name": "ipython",
    "version": 3
   },
   "file_extension": ".py",
   "mimetype": "text/x-python",
   "name": "python",
   "nbconvert_exporter": "python",
   "pygments_lexer": "ipython3",
   "version": "3.12.8"
  }
 },
 "nbformat": 4,
 "nbformat_minor": 2
}
