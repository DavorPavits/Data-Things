{
 "cells": [
  {
   "cell_type": "code",
   "execution_count": 1,
   "metadata": {},
   "outputs": [],
   "source": [
    "#Import Libriaries\n",
    "import pandas as pd\n",
    "import numpy as np\n",
    "import re\n",
    "import json\n",
    "\n",
    "from sklearn.neighbors import KNeighborsClassifier\n",
    "from sklearn.model_selection import train_test_split"
   ]
  },
  {
   "cell_type": "code",
   "execution_count": null,
   "metadata": {},
   "outputs": [
    {
     "name": "stdout",
     "output_type": "stream",
     "text": [
      "Connected with the result code0\n",
      "   Predicted Value  Actual Value\n",
      "0              0.0           0.0\n",
      "1              1.0           0.0\n",
      "2              0.0           1.0\n",
      "3              0.0           0.0\n",
      "4              0.0           1.0\n",
      "Correct Predictions:2/5\n"
     ]
    },
    {
     "data": {
      "text/plain": [
       "7"
      ]
     },
     "execution_count": 6,
     "metadata": {},
     "output_type": "execute_result"
    }
   ],
   "source": [
    "import paho.mqtt.client as mqtt\n",
    "\n",
    "df = pd.DataFrame()\n",
    "print_outcomes = pd.DataFrame(columns=[\"Predicted Value\", \"Actual Value\"])\n",
    "message_counter = 0\n",
    "\n",
    "def on_connect(client, userData, flags, rc):\n",
    "    print(\"Connected with the result code: \" + str(rc))\n",
    "    #We subscribe to this data.\n",
    "    client.subscribe(\"diabetes/records\")\n",
    "    \n",
    "\n",
    "def on_message(client, userData, msg):\n",
    "    global df, print_outcomes, message_counter\n",
    "    #Decode the incoming message\n",
    "    data = json.loads(msg.payload.decode())\n",
    "    message_counter+=1\n",
    "\n",
    "    #Convert from disctionary\n",
    "    new_data = pd.DataFrame([data])\n",
    "\n",
    "    #Append to the existing Data frame\n",
    "    df = pd.concat([df, new_data], ignore_index=True)\n",
    "    \n",
    "    if(len(df)>5):\n",
    "        outcomes = apply_classification(df.iloc[-5:-1], df.iloc[-1])\n",
    "\n",
    "        if(len(print_outcomes) == 0):\n",
    "            print_outcomes = outcomes.copy()\n",
    "        else:\n",
    "            print_outcomes = pd.concat([outcomes, print_outcomes],ignore_index=True)\n",
    "\n",
    "        if(message_counter>=10):\n",
    "            client.disconnect()\n",
    "            client.loop_stop()\n",
    "            correct_predictions = (print_outcomes[\"Predicted Value\"] == print_outcomes[\"Actual Value\"]).sum()\n",
    "            \n",
    "            print(print_outcomes)\n",
    "            print(f\"Correct Predictions:{correct_predictions}/{len(print_outcomes)}\")\n",
    "        \n",
    "   \n",
    "def apply_classification(data, last_record):\n",
    "    #Initialize the model\n",
    "    knn_model = KNeighborsClassifier(n_neighbors=3)\n",
    "\n",
    "    #Split the data\n",
    "    X_train = data[[\"Glucose\", \"BloodPressure\", \"Insulin\"]]\n",
    "    y_train = data[\"Outcome\"]\n",
    "    \n",
    "    z = last_record[[\"Glucose\", \"BloodPressure\", \"Insulin\"]].to_frame().T\n",
    "    z_actual=last_record[\"Outcome\"]\n",
    "\n",
    "    #Train the model\n",
    "    knn_model.fit(X_train, y_train)\n",
    "\n",
    "    #Make predictions\n",
    "    y_pred = knn_model.predict(z)[0]\n",
    "\n",
    "    #Print the predicted value against the the actual value\n",
    "    outcomes = pd.DataFrame({\n",
    "        \"Predicted Value\":[y_pred],\n",
    "        \"Actual Value\":[z_actual]\n",
    "    })\n",
    "\n",
    "    return outcomes\n",
    "    \n",
    "mqttc = mqtt.Client()\n",
    "mqttc.on_connect = on_connect\n",
    "mqttc.on_message = on_message\n",
    "# Now, we connect to the data broker.\n",
    "mqttc.connect(\"mqtt.eclipseprojects.io\", 1883, 60)\n",
    "\n",
    "# As a simple example, we just keep the data listening/receiving on and on...\n",
    "mqttc.loop_forever()"
   ]
  }
 ],
 "metadata": {
  "kernelspec": {
   "display_name": "data_things",
   "language": "python",
   "name": "python3"
  },
  "language_info": {
   "codemirror_mode": {
    "name": "ipython",
    "version": 3
   },
   "file_extension": ".py",
   "mimetype": "text/x-python",
   "name": "python",
   "nbconvert_exporter": "python",
   "pygments_lexer": "ipython3",
   "version": "3.12.8"
  }
 },
 "nbformat": 4,
 "nbformat_minor": 2
}
