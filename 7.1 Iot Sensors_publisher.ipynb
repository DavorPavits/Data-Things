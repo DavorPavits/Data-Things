{
 "cells": [
  {
   "cell_type": "markdown",
   "metadata": {},
   "source": [
    "Setup an MQTT broker and send messages\n",
    "\n",
    "Use the diabetes.csv dataset to do the following:\n",
    "1. Select the following 4 attributes (3 features + 1 class label) :\n",
    "• Glucose, BloodPressure, Insulin, Outcome\n",
    "2. Normalize Glucose, BloodPressure and Insulin to [0, 1] using MinMax.\n",
    "3. Store the new data (3 normalized features + 1 class label) in another dataset S.\n",
    "4. Modify the MQTT example to do the following:\n",
    "• The publisher publishes records in S continuously. When it reaches the end of S, it continues to send from the\n",
    "beginning again.\n",
    "• The subscriber continuously receives the data. For each latest record r received, apply the 3NN classification to the\n",
    "last 5 records before r, and compare the classification result with the Outcome label in r.\n",
    "• Repeat this for 1000 times, and report the number of correct classifications"
   ]
  },
  {
   "cell_type": "code",
   "execution_count": 1,
   "metadata": {},
   "outputs": [],
   "source": [
    "#Import Libraries\n",
    "import numpy as np\n",
    "import pandas as pd\n",
    "from matplotlib import pyplot as plt"
   ]
  },
  {
   "cell_type": "code",
   "execution_count": 3,
   "metadata": {},
   "outputs": [],
   "source": [
    "#Load data\n",
    "df = pd.read_csv(\"Datasets/diabetes.csv\")"
   ]
  },
  {
   "cell_type": "code",
   "execution_count": 4,
   "metadata": {},
   "outputs": [
    {
     "name": "stdout",
     "output_type": "stream",
     "text": [
      "<class 'pandas.core.frame.DataFrame'>\n",
      "RangeIndex: 768 entries, 0 to 767\n",
      "Data columns (total 9 columns):\n",
      " #   Column                    Non-Null Count  Dtype  \n",
      "---  ------                    --------------  -----  \n",
      " 0   Pregnancies               768 non-null    int64  \n",
      " 1   Glucose                   768 non-null    int64  \n",
      " 2   BloodPressure             768 non-null    int64  \n",
      " 3   SkinThickness             768 non-null    int64  \n",
      " 4   Insulin                   768 non-null    int64  \n",
      " 5   BMI                       768 non-null    float64\n",
      " 6   DiabetesPedigreeFunction  768 non-null    float64\n",
      " 7   Age                       768 non-null    int64  \n",
      " 8   Outcome                   768 non-null    int64  \n",
      "dtypes: float64(2), int64(7)\n",
      "memory usage: 54.1 KB\n"
     ]
    },
    {
     "data": {
      "text/plain": [
       "Pregnancies                 0\n",
       "Glucose                     0\n",
       "BloodPressure               0\n",
       "SkinThickness               0\n",
       "Insulin                     0\n",
       "BMI                         0\n",
       "DiabetesPedigreeFunction    0\n",
       "Age                         0\n",
       "Outcome                     0\n",
       "dtype: int64"
      ]
     },
     "execution_count": 4,
     "metadata": {},
     "output_type": "execute_result"
    }
   ],
   "source": [
    "#Quick EDA\n",
    "df.info()\n",
    "df.isnull().sum()"
   ]
  },
  {
   "cell_type": "markdown",
   "metadata": {},
   "source": [
    "1. Select the following 4 attributes (3 features + 1 class label) :\n",
    "• Glucose, BloodPressure, Insulin, Outcome"
   ]
  },
  {
   "cell_type": "code",
   "execution_count": 5,
   "metadata": {},
   "outputs": [],
   "source": [
    "#Store the data into \n",
    "X = df[[\"Glucose\", \"BloodPressure\", \"Insulin\",\"Outcome\"]]"
   ]
  },
  {
   "cell_type": "markdown",
   "metadata": {},
   "source": [
    "2. Normalize Glucose, BloodPressure and Insulin to [0, 1] using MinMax."
   ]
  },
  {
   "cell_type": "code",
   "execution_count": 9,
   "metadata": {},
   "outputs": [],
   "source": [
    "#Scaling the data into MinMax\n",
    "from sklearn.preprocessing import MinMaxScaler\n",
    "\n",
    "scaler = MinMaxScaler()\n",
    "X = pd.DataFrame(scaler.fit_transform(X), columns=X.columns) "
   ]
  },
  {
   "cell_type": "markdown",
   "metadata": {},
   "source": [
    "4. Modify the MQTT example to do the following:\n",
    "* The publisher publishes records in S continuously. When it reaches the end of S, it continues to send from the\n",
    "beginning again.\n",
    "* The subscriber continuously receives the data. For each latest record r received, apply the 3NN classification to the\n",
    "last 5 records before r, and compare the classification result with the Outcome label in r.\n",
    "* Repeat this for 1000 times, and report the number of correct classifications"
   ]
  },
  {
   "cell_type": "code",
   "execution_count": 15,
   "metadata": {},
   "outputs": [
    {
     "name": "stdout",
     "output_type": "stream",
     "text": [
      "Publishing....\n"
     ]
    }
   ],
   "source": [
    "import time\n",
    "import paho.mqtt.client as mqtt\n",
    "import json\n",
    "\n",
    "#Create a client\n",
    "mqtt_client = mqtt.Client()\n",
    "\n",
    "#Connect to port 1883 and set parameter to 60\n",
    "mqtt_client.connect(\"mqtt.eclipseprojects.io\", 1883, 60)\n",
    "\n",
    "#Send the following data repeatedly. Once we reach the end, we start from the beginning again\n",
    "period = len(X)\n",
    "\n",
    "if __name__  == \"__main__\":\n",
    "    print(\"Publishing....\")\n",
    "\n",
    "    index = 0\n",
    "    while(index <= 1000):\n",
    "        #Get the current data rading to send out\n",
    "        record = X.loc[index % period]\n",
    "\n",
    "        #Publish the data reading as \"diabetes/records\"\n",
    "        mqtt_client.publish(\"diabetes/records\", record.to_json(orient=\"index\"))\n",
    "\n",
    "        #We send the next reading after 5 seconds\n",
    "        time.sleep(0.2)\n",
    "        index = index + 1"
   ]
  }
 ],
 "metadata": {
  "kernelspec": {
   "display_name": "data_things",
   "language": "python",
   "name": "python3"
  },
  "language_info": {
   "codemirror_mode": {
    "name": "ipython",
    "version": 3
   },
   "file_extension": ".py",
   "mimetype": "text/x-python",
   "name": "python",
   "nbconvert_exporter": "python",
   "pygments_lexer": "ipython3",
   "version": "3.12.8"
  }
 },
 "nbformat": 4,
 "nbformat_minor": 2
}
